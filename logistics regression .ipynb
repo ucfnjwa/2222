{
 "cells": [
  {
   "cell_type": "code",
   "execution_count": 2,
   "metadata": {
    "collapsed": true
   },
   "outputs": [],
   "source": [
    "import pandas as pd\n",
    "import numpy as np\n",
    "import requests\n",
    "import matplotlib.pyplot as plt\n",
    "import statsmodels.api as sm"
   ]
  },
  {
   "cell_type": "code",
   "execution_count": 4,
   "metadata": {
    "collapsed": true
   },
   "outputs": [],
   "source": [
    "data=pd.read_csv(\"删除异常值1,0.csv\")"
   ]
  },
  {
   "cell_type": "code",
   "execution_count": 3,
   "metadata": {},
   "outputs": [
    {
     "data": {
      "text/html": [
       "<div>\n",
       "<style>\n",
       "    .dataframe thead tr:only-child th {\n",
       "        text-align: right;\n",
       "    }\n",
       "\n",
       "    .dataframe thead th {\n",
       "        text-align: left;\n",
       "    }\n",
       "\n",
       "    .dataframe tbody tr th {\n",
       "        vertical-align: top;\n",
       "    }\n",
       "</style>\n",
       "<table border=\"1\" class=\"dataframe\">\n",
       "  <thead>\n",
       "    <tr style=\"text-align: right;\">\n",
       "      <th></th>\n",
       "      <th>Unnamed: 0</th>\n",
       "      <th>chuwin</th>\n",
       "      <th>chudraw</th>\n",
       "      <th>chulose</th>\n",
       "      <th>win</th>\n",
       "      <th>draw</th>\n",
       "      <th>lose</th>\n",
       "      <th>reslut</th>\n",
       "      <th>chuwinp</th>\n",
       "      <th>chudrawp</th>\n",
       "      <th>chulosep</th>\n",
       "      <th>winp</th>\n",
       "      <th>drawp</th>\n",
       "      <th>losep</th>\n",
       "      <th>result1,0</th>\n",
       "    </tr>\n",
       "  </thead>\n",
       "  <tbody>\n",
       "    <tr>\n",
       "      <th>0</th>\n",
       "      <td>5</td>\n",
       "      <td>1.30</td>\n",
       "      <td>5.00</td>\n",
       "      <td>7.0</td>\n",
       "      <td>1.28</td>\n",
       "      <td>5.00</td>\n",
       "      <td>7.50</td>\n",
       "      <td>2</td>\n",
       "      <td>0.769231</td>\n",
       "      <td>0.200000</td>\n",
       "      <td>0.142857</td>\n",
       "      <td>0.781250</td>\n",
       "      <td>0.200000</td>\n",
       "      <td>0.133333</td>\n",
       "      <td>1</td>\n",
       "    </tr>\n",
       "    <tr>\n",
       "      <th>1</th>\n",
       "      <td>11</td>\n",
       "      <td>1.40</td>\n",
       "      <td>4.00</td>\n",
       "      <td>7.0</td>\n",
       "      <td>1.57</td>\n",
       "      <td>3.80</td>\n",
       "      <td>5.25</td>\n",
       "      <td>2</td>\n",
       "      <td>0.714286</td>\n",
       "      <td>0.250000</td>\n",
       "      <td>0.142857</td>\n",
       "      <td>0.636943</td>\n",
       "      <td>0.263158</td>\n",
       "      <td>0.190476</td>\n",
       "      <td>1</td>\n",
       "    </tr>\n",
       "    <tr>\n",
       "      <th>2</th>\n",
       "      <td>15</td>\n",
       "      <td>1.36</td>\n",
       "      <td>4.50</td>\n",
       "      <td>7.5</td>\n",
       "      <td>1.66</td>\n",
       "      <td>3.60</td>\n",
       "      <td>5.25</td>\n",
       "      <td>1</td>\n",
       "      <td>0.735294</td>\n",
       "      <td>0.222222</td>\n",
       "      <td>0.133333</td>\n",
       "      <td>0.602410</td>\n",
       "      <td>0.277778</td>\n",
       "      <td>0.190476</td>\n",
       "      <td>0</td>\n",
       "    </tr>\n",
       "    <tr>\n",
       "      <th>3</th>\n",
       "      <td>17</td>\n",
       "      <td>1.40</td>\n",
       "      <td>3.75</td>\n",
       "      <td>7.5</td>\n",
       "      <td>1.45</td>\n",
       "      <td>3.75</td>\n",
       "      <td>7.00</td>\n",
       "      <td>2</td>\n",
       "      <td>0.714286</td>\n",
       "      <td>0.266667</td>\n",
       "      <td>0.133333</td>\n",
       "      <td>0.689655</td>\n",
       "      <td>0.266667</td>\n",
       "      <td>0.142857</td>\n",
       "      <td>1</td>\n",
       "    </tr>\n",
       "    <tr>\n",
       "      <th>4</th>\n",
       "      <td>18</td>\n",
       "      <td>1.33</td>\n",
       "      <td>4.33</td>\n",
       "      <td>7.5</td>\n",
       "      <td>1.33</td>\n",
       "      <td>4.33</td>\n",
       "      <td>7.50</td>\n",
       "      <td>2</td>\n",
       "      <td>0.751880</td>\n",
       "      <td>0.230947</td>\n",
       "      <td>0.133333</td>\n",
       "      <td>0.751880</td>\n",
       "      <td>0.230947</td>\n",
       "      <td>0.133333</td>\n",
       "      <td>1</td>\n",
       "    </tr>\n",
       "  </tbody>\n",
       "</table>\n",
       "</div>"
      ],
      "text/plain": [
       "   Unnamed: 0  chuwin  chudraw  chulose   win  draw  lose  reslut   chuwinp  \\\n",
       "0           5    1.30     5.00      7.0  1.28  5.00  7.50       2  0.769231   \n",
       "1          11    1.40     4.00      7.0  1.57  3.80  5.25       2  0.714286   \n",
       "2          15    1.36     4.50      7.5  1.66  3.60  5.25       1  0.735294   \n",
       "3          17    1.40     3.75      7.5  1.45  3.75  7.00       2  0.714286   \n",
       "4          18    1.33     4.33      7.5  1.33  4.33  7.50       2  0.751880   \n",
       "\n",
       "   chudrawp  chulosep      winp     drawp     losep  result1,0  \n",
       "0  0.200000  0.142857  0.781250  0.200000  0.133333          1  \n",
       "1  0.250000  0.142857  0.636943  0.263158  0.190476          1  \n",
       "2  0.222222  0.133333  0.602410  0.277778  0.190476          0  \n",
       "3  0.266667  0.133333  0.689655  0.266667  0.142857          1  \n",
       "4  0.230947  0.133333  0.751880  0.230947  0.133333          1  "
      ]
     },
     "execution_count": 3,
     "metadata": {},
     "output_type": "execute_result"
    }
   ],
   "source": [
    "data.head()"
   ]
  },
  {
   "cell_type": "code",
   "execution_count": 6,
   "metadata": {},
   "outputs": [
    {
     "name": "stdout",
     "output_type": "stream",
     "text": [
      "chuwin     1.20  1.22  1.25  1.28  1.30  1.33  1.35  1.36  1.40  1.44  ...   \\\n",
      "result1,0                                                              ...    \n",
      "0             0     0     0     7     9    40     0    29    65    74  ...    \n",
      "1             5     5     8    29    35    78     3    81   144   118  ...    \n",
      "\n",
      "chuwin     5.20  5.25  5.50  5.60  5.70  5.75  5.90  6.00  6.25  6.50  \n",
      "result1,0                                                              \n",
      "0             2   409  1125     1     1   316     1  1075    45   589  \n",
      "1             1   109   238     0     0    64     0   175     4   143  \n",
      "\n",
      "[2 rows x 79 columns]\n"
     ]
    }
   ],
   "source": [
    "#展示频率\n",
    "print(pd.crosstab(data[\"result1,0\"],data[\"chuwin\"],rownames=[\"result1,0\"]))\n"
   ]
  },
  {
   "cell_type": "code",
   "execution_count": 7,
   "metadata": {},
   "outputs": [
    {
     "data": {
      "image/png": "[encoded data removed]",
      "text/plain": [
       "<matplotlib.figure.Figure at 0x1075bd198>"
      ]
     },
     "metadata": {},
     "output_type": "display_data"
    }
   ],
   "source": [
    "#画频率图\n",
    "data.hist()\n",
    "plt.show()"
   ]
  },
  {
   "cell_type": "code",
   "execution_count": 6,
   "metadata": {},
   "outputs": [
    {
     "data": {
      "text/html": [
       "<div>\n",
       "<style>\n",
       "    .dataframe thead tr:only-child th {\n",
       "        text-align: right;\n",
       "    }\n",
       "\n",
       "    .dataframe thead th {\n",
       "        text-align: left;\n",
       "    }\n",
       "\n",
       "    .dataframe tbody tr th {\n",
       "        vertical-align: top;\n",
       "    }\n",
       "</style>\n",
       "<table border=\"1\" class=\"dataframe\">\n",
       "  <thead>\n",
       "    <tr style=\"text-align: right;\">\n",
       "      <th></th>\n",
       "      <th>Unnamed: 0</th>\n",
       "      <th>chuwin</th>\n",
       "      <th>chudraw</th>\n",
       "      <th>chulose</th>\n",
       "      <th>win</th>\n",
       "      <th>draw</th>\n",
       "      <th>lose</th>\n",
       "      <th>reslut</th>\n",
       "      <th>chuwinp</th>\n",
       "      <th>chudrawp</th>\n",
       "      <th>chulosep</th>\n",
       "      <th>winp</th>\n",
       "      <th>drawp</th>\n",
       "      <th>losep</th>\n",
       "      <th>result1,0</th>\n",
       "      <th>intercept</th>\n",
       "    </tr>\n",
       "  </thead>\n",
       "  <tbody>\n",
       "    <tr>\n",
       "      <th>0</th>\n",
       "      <td>5</td>\n",
       "      <td>1.30</td>\n",
       "      <td>5.00</td>\n",
       "      <td>7.0</td>\n",
       "      <td>1.28</td>\n",
       "      <td>5.00</td>\n",
       "      <td>7.50</td>\n",
       "      <td>2</td>\n",
       "      <td>0.769231</td>\n",
       "      <td>0.200000</td>\n",
       "      <td>0.142857</td>\n",
       "      <td>0.781250</td>\n",
       "      <td>0.200000</td>\n",
       "      <td>0.133333</td>\n",
       "      <td>1</td>\n",
       "      <td>1.0</td>\n",
       "    </tr>\n",
       "    <tr>\n",
       "      <th>1</th>\n",
       "      <td>11</td>\n",
       "      <td>1.40</td>\n",
       "      <td>4.00</td>\n",
       "      <td>7.0</td>\n",
       "      <td>1.57</td>\n",
       "      <td>3.80</td>\n",
       "      <td>5.25</td>\n",
       "      <td>2</td>\n",
       "      <td>0.714286</td>\n",
       "      <td>0.250000</td>\n",
       "      <td>0.142857</td>\n",
       "      <td>0.636943</td>\n",
       "      <td>0.263158</td>\n",
       "      <td>0.190476</td>\n",
       "      <td>1</td>\n",
       "      <td>1.0</td>\n",
       "    </tr>\n",
       "    <tr>\n",
       "      <th>2</th>\n",
       "      <td>15</td>\n",
       "      <td>1.36</td>\n",
       "      <td>4.50</td>\n",
       "      <td>7.5</td>\n",
       "      <td>1.66</td>\n",
       "      <td>3.60</td>\n",
       "      <td>5.25</td>\n",
       "      <td>1</td>\n",
       "      <td>0.735294</td>\n",
       "      <td>0.222222</td>\n",
       "      <td>0.133333</td>\n",
       "      <td>0.602410</td>\n",
       "      <td>0.277778</td>\n",
       "      <td>0.190476</td>\n",
       "      <td>0</td>\n",
       "      <td>1.0</td>\n",
       "    </tr>\n",
       "    <tr>\n",
       "      <th>3</th>\n",
       "      <td>17</td>\n",
       "      <td>1.40</td>\n",
       "      <td>3.75</td>\n",
       "      <td>7.5</td>\n",
       "      <td>1.45</td>\n",
       "      <td>3.75</td>\n",
       "      <td>7.00</td>\n",
       "      <td>2</td>\n",
       "      <td>0.714286</td>\n",
       "      <td>0.266667</td>\n",
       "      <td>0.133333</td>\n",
       "      <td>0.689655</td>\n",
       "      <td>0.266667</td>\n",
       "      <td>0.142857</td>\n",
       "      <td>1</td>\n",
       "      <td>1.0</td>\n",
       "    </tr>\n",
       "    <tr>\n",
       "      <th>4</th>\n",
       "      <td>18</td>\n",
       "      <td>1.33</td>\n",
       "      <td>4.33</td>\n",
       "      <td>7.5</td>\n",
       "      <td>1.33</td>\n",
       "      <td>4.33</td>\n",
       "      <td>7.50</td>\n",
       "      <td>2</td>\n",
       "      <td>0.751880</td>\n",
       "      <td>0.230947</td>\n",
       "      <td>0.133333</td>\n",
       "      <td>0.751880</td>\n",
       "      <td>0.230947</td>\n",
       "      <td>0.133333</td>\n",
       "      <td>1</td>\n",
       "      <td>1.0</td>\n",
       "    </tr>\n",
       "  </tbody>\n",
       "</table>\n",
       "</div>"
      ],
      "text/plain": [
       "   Unnamed: 0  chuwin  chudraw  chulose   win  draw  lose  reslut   chuwinp  \\\n",
       "0           5    1.30     5.00      7.0  1.28  5.00  7.50       2  0.769231   \n",
       "1          11    1.40     4.00      7.0  1.57  3.80  5.25       2  0.714286   \n",
       "2          15    1.36     4.50      7.5  1.66  3.60  5.25       1  0.735294   \n",
       "3          17    1.40     3.75      7.5  1.45  3.75  7.00       2  0.714286   \n",
       "4          18    1.33     4.33      7.5  1.33  4.33  7.50       2  0.751880   \n",
       "\n",
       "   chudrawp  chulosep      winp     drawp     losep  result1,0  intercept  \n",
       "0  0.200000  0.142857  0.781250  0.200000  0.133333          1        1.0  \n",
       "1  0.250000  0.142857  0.636943  0.263158  0.190476          1        1.0  \n",
       "2  0.222222  0.133333  0.602410  0.277778  0.190476          0        1.0  \n",
       "3  0.266667  0.133333  0.689655  0.266667  0.142857          1        1.0  \n",
       "4  0.230947  0.133333  0.751880  0.230947  0.133333          1        1.0  "
      ]
     },
     "execution_count": 6,
     "metadata": {},
     "output_type": "execute_result"
    }
   ],
   "source": [
    "#加上常数项，显示指定。    \n",
    "data[\"intercept\"]=1.0\n",
    "data.head()"
   ]
  },
  {
   "cell_type": "code",
   "execution_count": 7,
   "metadata": {},
   "outputs": [
    {
     "name": "stdout",
     "output_type": "stream",
     "text": [
      "Optimization terminated successfully.\n",
      "         Current function value: 0.560783\n",
      "         Iterations 5\n"
     ]
    }
   ],
   "source": [
    "#指定作为训练变量的列\n",
    "train_cols = data.columns[[8,9,10,11,12,13,15]]\n",
    "# Index([gre, gpa, prestige_2, prestige_3, prestige_4], dtype=object)\n",
    "\n",
    "logit=sm.Logit(data['result1,0'], data[train_cols])\n",
    "\n",
    "# 拟合模型\n",
    "result = logit.fit()"
   ]
  },
  {
   "cell_type": "code",
   "execution_count": 8,
   "metadata": {},
   "outputs": [
    {
     "name": "stdout",
     "output_type": "stream",
     "text": [
      "                           Logit Regression Results                           \n",
      "==============================================================================\n",
      "Dep. Variable:              result1,0   No. Observations:                22720\n",
      "Model:                          Logit   Df Residuals:                    22713\n",
      "Method:                           MLE   Df Model:                            6\n",
      "Date:                Sat, 23 Dec 2017   Pseudo R-squ.:                 0.08487\n",
      "Time:                        22:53:37   Log-Likelihood:                -12741.\n",
      "converged:                       True   LL-Null:                       -13923.\n",
      "                                        LLR p-value:                     0.000\n",
      "==============================================================================\n",
      "                 coef    std err          z      P>|z|      [0.025      0.975]\n",
      "------------------------------------------------------------------------------\n",
      "chuwinp       -1.7106      1.159     -1.476      0.140      -3.981       0.560\n",
      "chudrawp      -1.3714      1.492     -0.919      0.358      -4.296       1.553\n",
      "chulosep      -1.3069      1.151     -1.136      0.256      -3.562       0.948\n",
      "winp           4.0634      0.965      4.211      0.000       2.172       5.955\n",
      "drawp         -0.9996      1.308     -0.764      0.445      -3.564       1.565\n",
      "losep         -0.8653      0.958     -0.903      0.367      -2.744       1.013\n",
      "intercept      0.0463      0.895      0.052      0.959      -1.708       1.801\n",
      "==============================================================================\n"
     ]
    }
   ],
   "source": [
    "print(result.summary())"
   ]
  },
  {
   "cell_type": "code",
   "execution_count": 10,
   "metadata": {
    "collapsed": true
   },
   "outputs": [],
   "source": [
    "# 构建预测集\n",
    "# 与训练集相似，一般也是通过 pd.read_csv() 读入\n",
    "# 在这边为方便，我们将训练集拷贝一份作为预测集（不包括 admin 列）\n",
    "import copy\n",
    "combos = copy.deepcopy(data)\n",
    " \n",
    "# 数据中的列要跟预测时用到的列一致\n",
    "predict_cols = combos.columns[[8,9,10,11,12,13,15]]\n",
    "\n",
    "# 进行预测，并将预测评分存入 predict 列中\n",
    "combos['predict'] = result.predict(combos[predict_cols])"
   ]
  },
  {
   "cell_type": "code",
   "execution_count": 12,
   "metadata": {},
   "outputs": [
    {
     "ename": "TypeError",
     "evalue": "tuple indices must be integers or slices, not str",
     "output_type": "error",
     "traceback": [
      "\u001b[0;31m---------------------------------------------------------------------------\u001b[0m",
      "\u001b[0;31mTypeError\u001b[0m                                 Traceback (most recent call last)",
      "\u001b[0;32m<ipython-input-12-ddc90def90ac>\u001b[0m in \u001b[0;36m<module>\u001b[0;34m()\u001b[0m\n\u001b[1;32m      4\u001b[0m \u001b[0mmoney\u001b[0m\u001b[0;34m=\u001b[0m\u001b[0;36m1\u001b[0m\u001b[0;34m\u001b[0m\u001b[0m\n\u001b[1;32m      5\u001b[0m \u001b[0;32mfor\u001b[0m \u001b[0mrow\u001b[0m \u001b[0;32min\u001b[0m \u001b[0mcombos\u001b[0m\u001b[0;34m.\u001b[0m\u001b[0miterrows\u001b[0m\u001b[0;34m(\u001b[0m\u001b[0;34m)\u001b[0m\u001b[0;34m:\u001b[0m\u001b[0;34m\u001b[0m\u001b[0m\n\u001b[0;32m----> 6\u001b[0;31m     \u001b[0;32mif\u001b[0m \u001b[0;34m(\u001b[0m\u001b[0mrow\u001b[0m\u001b[0;34m[\u001b[0m\u001b[0;34m\"predict\"\u001b[0m\u001b[0;34m]\u001b[0m\u001b[0;34m-\u001b[0m\u001b[0mrow\u001b[0m\u001b[0;34m[\u001b[0m\u001b[0;34m\"winp\"\u001b[0m\u001b[0;34m]\u001b[0m\u001b[0;34m)\u001b[0m\u001b[0;34m>\u001b[0m\u001b[0mt\u001b[0m\u001b[0;34m:\u001b[0m\u001b[0;34m\u001b[0m\u001b[0m\n\u001b[0m\u001b[1;32m      7\u001b[0m         \u001b[0mbet\u001b[0m\u001b[0;34m=\u001b[0m\u001b[0;34m(\u001b[0m\u001b[0mrow\u001b[0m\u001b[0;34m[\u001b[0m\u001b[0;34m\"winp\"\u001b[0m\u001b[0;34m]\u001b[0m\u001b[0;34m*\u001b[0m\u001b[0mrow\u001b[0m\u001b[0;34m[\u001b[0m\u001b[0;34m\"win\"\u001b[0m\u001b[0;34m]\u001b[0m\u001b[0;34m-\u001b[0m\u001b[0;36m1\u001b[0m\u001b[0;34m)\u001b[0m\u001b[0;34m/\u001b[0m\u001b[0;34m(\u001b[0m\u001b[0mrow\u001b[0m\u001b[0;34m[\u001b[0m\u001b[0;34m\"win\"\u001b[0m\u001b[0;34m]\u001b[0m\u001b[0;34m-\u001b[0m\u001b[0;36m1\u001b[0m\u001b[0;34m)\u001b[0m\u001b[0;34m\u001b[0m\u001b[0m\n\u001b[1;32m      8\u001b[0m         \u001b[0;32mif\u001b[0m \u001b[0mrow\u001b[0m\u001b[0;34m[\u001b[0m\u001b[0;34m\"result1,0\"\u001b[0m\u001b[0;34m]\u001b[0m\u001b[0;34m==\u001b[0m\u001b[0;36m1\u001b[0m\u001b[0;34m:\u001b[0m\u001b[0;34m\u001b[0m\u001b[0m\n",
      "\u001b[0;31mTypeError\u001b[0m: tuple indices must be integers or slices, not str"
     ]
    }
   ],
   "source": [
    "#赔率可能性比实际小0.1就买t\n",
    "t=0.1\n",
    "combos.head(5)\n",
    "money=1\n",
    "for row in combos.iterrows():\n",
    "    if (row[\"predict\"]-row[\"winp\"])>t:\n",
    "        bet=(row[\"winp\"]*row[\"win\"]-1)/(row[\"win\"]-1)\n",
    "        if row[\"result1,0\"]==1:\n",
    "            money=money+bet*(row[\"winp\"]-1)\n",
    "        else:\n",
    "            money=money-bet\n",
    "print(money)"
   ]
  },
  {
   "cell_type": "code",
   "execution_count": null,
   "metadata": {
    "collapsed": true
   },
   "outputs": [],
   "source": []
  }
 ],
 "metadata": {
  "kernelspec": {
   "display_name": "Python 3",
   "language": "python",
   "name": "python3"
  },
  "language_info": {
   "codemirror_mode": {
    "name": "ipython",
    "version": 3
   },
   "file_extension": ".py",
   "mimetype": "text/x-python",
   "name": "python",
   "nbconvert_exporter": "python",
   "pygments_lexer": "ipython3",
   "version": "3.6.2"
  }
 },
 "nbformat": 4,
 "nbformat_minor": 2
}
