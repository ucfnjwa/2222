{
 "cells": [
  {
   "cell_type": "code",
   "execution_count": 17,
   "metadata": {
    "collapsed": true
   },
   "outputs": [],
   "source": [
    "import pandas as pd\n",
    "import numpy as np"
   ]
  },
  {
   "cell_type": "code",
   "execution_count": 6,
   "metadata": {
    "collapsed": true
   },
   "outputs": [],
   "source": [
    "data1=pd.read_csv(\"oupeipipeizengjiabianl.csv\")"
   ]
  },
  {
   "cell_type": "code",
   "execution_count": 63,
   "metadata": {},
   "outputs": [
    {
     "data": {
      "text/html": [
       "<div>\n",
       "<style>\n",
       "    .dataframe thead tr:only-child th {\n",
       "        text-align: right;\n",
       "    }\n",
       "\n",
       "    .dataframe thead th {\n",
       "        text-align: left;\n",
       "    }\n",
       "\n",
       "    .dataframe tbody tr th {\n",
       "        vertical-align: top;\n",
       "    }\n",
       "</style>\n",
       "<table border=\"1\" class=\"dataframe\">\n",
       "  <thead>\n",
       "    <tr style=\"text-align: right;\">\n",
       "      <th></th>\n",
       "      <th>Unnamed: 0</th>\n",
       "      <th>Unnamed: 0.1</th>\n",
       "      <th>Unnamed: 0_x</th>\n",
       "      <th>AwayGoals_x</th>\n",
       "      <th>AwayHalfGoals_x</th>\n",
       "      <th>AwayName</th>\n",
       "      <th>AwayTeamId_x</th>\n",
       "      <th>ChuDraw_x</th>\n",
       "      <th>ChuLose_x</th>\n",
       "      <th>ChuWin_x</th>\n",
       "      <th>...</th>\n",
       "      <th>OwinC</th>\n",
       "      <th>OdrawC</th>\n",
       "      <th>OloseC</th>\n",
       "      <th>intercept</th>\n",
       "      <th>resultwin1,0</th>\n",
       "      <th>resultwin1,0draw</th>\n",
       "      <th>resultwin1,0lose</th>\n",
       "      <th>1/win</th>\n",
       "      <th>1/draw</th>\n",
       "      <th>1/lose</th>\n",
       "    </tr>\n",
       "  </thead>\n",
       "  <tbody>\n",
       "    <tr>\n",
       "      <th>0</th>\n",
       "      <td>0</td>\n",
       "      <td>0</td>\n",
       "      <td>0</td>\n",
       "      <td>2</td>\n",
       "      <td>1</td>\n",
       "      <td>亚特兰大</td>\n",
       "      <td>493</td>\n",
       "      <td>3.4</td>\n",
       "      <td>4.0</td>\n",
       "      <td>1.9</td>\n",
       "      <td>...</td>\n",
       "      <td>0.65</td>\n",
       "      <td>-0.2</td>\n",
       "      <td>-1.1</td>\n",
       "      <td>1.0</td>\n",
       "      <td>0</td>\n",
       "      <td>0</td>\n",
       "      <td>1</td>\n",
       "      <td>0.526316</td>\n",
       "      <td>0.294118</td>\n",
       "      <td>0.25</td>\n",
       "    </tr>\n",
       "  </tbody>\n",
       "</table>\n",
       "<p>1 rows × 58 columns</p>\n",
       "</div>"
      ],
      "text/plain": [
       "   Unnamed: 0  Unnamed: 0.1  Unnamed: 0_x  AwayGoals_x  AwayHalfGoals_x  \\\n",
       "0           0             0             0            2                1   \n",
       "\n",
       "  AwayName  AwayTeamId_x  ChuDraw_x  ChuLose_x  ChuWin_x   ...   OwinC  \\\n",
       "0     亚特兰大           493        3.4        4.0       1.9   ...    0.65   \n",
       "\n",
       "   OdrawC  OloseC  intercept resultwin1,0  resultwin1,0draw  resultwin1,0lose  \\\n",
       "0    -0.2    -1.1        1.0            0                 0                 1   \n",
       "\n",
       "      1/win    1/draw  1/lose  \n",
       "0  0.526316  0.294118    0.25  \n",
       "\n",
       "[1 rows x 58 columns]"
      ]
     },
     "execution_count": 63,
     "metadata": {},
     "output_type": "execute_result"
    }
   ],
   "source": [
    "data1.head(1)"
   ]
  },
  {
   "cell_type": "code",
   "execution_count": 64,
   "metadata": {},
   "outputs": [
    {
     "data": {
      "text/plain": [
       "Index(['Unnamed: 0', 'Unnamed: 0.1', 'Unnamed: 0_x', 'AwayGoals_x',\n",
       "       'AwayHalfGoals_x', 'AwayName', 'AwayTeamId_x', 'ChuDraw_x', 'ChuLose_x',\n",
       "       'ChuWin_x', 'Color_x', 'CorpId_x', 'DrawOdds_x', 'GameId_x',\n",
       "       'GameName_x', 'HomeGoals_x', 'HomeHalfGoals_x', 'HomeName',\n",
       "       'HomeTeamId_x', 'LoseOdds_x', 'MatchId_x', 'StartTime_x', 'WinOdds_x',\n",
       "       'Unnamed: 0_y', 'AwayGoals_y', 'AwayHalfGoals_y', 'AwayTeamId_y',\n",
       "       'ChuDraw_y', 'ChuLose_y', 'ChuWin_y', 'Color_y', 'CorpId_y',\n",
       "       'DrawOdds_y', 'GameId_y', 'GameName_y', 'HomeGoals_y',\n",
       "       'HomeHalfGoals_y', 'HomeTeamId_y', 'LoseOdds_y', 'MatchId_y',\n",
       "       'StartTime_y', 'WinOdds_y', 'result', 'prowin', 'prolse', 'prodraw',\n",
       "       'all', 'winoupeibianhua', 'OwinC', 'OdrawC', 'OloseC', 'intercept',\n",
       "       'resultwin1,0', 'resultwin1,0draw', 'resultwin1,0lose', '1/win',\n",
       "       '1/draw', '1/lose'],\n",
       "      dtype='object')"
      ]
     },
     "execution_count": 64,
     "metadata": {},
     "output_type": "execute_result"
    }
   ],
   "source": [
    "data1.columns"
   ]
  },
  {
   "cell_type": "code",
   "execution_count": 77,
   "metadata": {},
   "outputs": [
    {
     "data": {
      "text/plain": [
       "0      0\n",
       "1      1\n",
       "2      1\n",
       "3      1\n",
       "4      2\n",
       "5      2\n",
       "6      2\n",
       "7      2\n",
       "8      2\n",
       "9      2\n",
       "10     2\n",
       "11     2\n",
       "12     2\n",
       "13     2\n",
       "14     2\n",
       "15     1\n",
       "16     1\n",
       "17     2\n",
       "18     1\n",
       "19     2\n",
       "20     1\n",
       "21     2\n",
       "22     0\n",
       "23     0\n",
       "24     0\n",
       "25     0\n",
       "26     2\n",
       "27     1\n",
       "28     2\n",
       "29     2\n",
       "      ..\n",
       "891    1\n",
       "892    1\n",
       "893    1\n",
       "894    1\n",
       "895    1\n",
       "896    0\n",
       "897    0\n",
       "898    0\n",
       "899    0\n",
       "900    0\n",
       "901    2\n",
       "902    2\n",
       "903    2\n",
       "904    0\n",
       "905    0\n",
       "906    0\n",
       "907    1\n",
       "908    1\n",
       "909    1\n",
       "910    0\n",
       "911    0\n",
       "912    0\n",
       "913    0\n",
       "914    0\n",
       "915    0\n",
       "916    0\n",
       "917    1\n",
       "918    1\n",
       "919    0\n",
       "920    0\n",
       "Name: result, Length: 921, dtype: int64"
      ]
     },
     "execution_count": 77,
     "metadata": {},
     "output_type": "execute_result"
    }
   ],
   "source": [
    "data1[\"result\"]"
   ]
  },
  {
   "cell_type": "code",
   "execution_count": 12,
   "metadata": {
    "collapsed": true
   },
   "outputs": [],
   "source": [
    "#增加了所有变量\n",
    "data1[\"prowin\"]=1-(1/data1['WinOdds_y'])*data1['WinOdds_x']\n",
    "data1[\"prolse\"]=1-(1/data1['LoseOdds_y'])*data1['LoseOdds_x']\n",
    "data1[\"prodraw\"]=1-(1/data1['DrawOdds_y'])*data1['DrawOdds_x']\n",
    "data1[\"OwinC\"]=data1['WinOdds_x']-data1['ChuWin_x']\n",
    "data1[\"OdrawC\"]=data1['DrawOdds_x']-data1['ChuDraw_x']\n",
    "data1[\"OloseC\"]=data1['LoseOdds_x']-data1['ChuLose_x']\n",
    "\n",
    "data1[\"intercept\"]=1.0\n",
    "\n",
    "\n"
   ]
  },
  {
   "cell_type": "code",
   "execution_count": 62,
   "metadata": {
    "collapsed": true
   },
   "outputs": [],
   "source": [
    "data1[\"1/win\"]=1/data1[\"ChuWin_x\"]\n",
    "data1[\"1/draw\"]=1/data1[\"ChuDraw_x\"]\n",
    "data1[\"1/lose\"]=1/data1[\"ChuLose_x\"]"
   ]
  },
  {
   "cell_type": "code",
   "execution_count": 31,
   "metadata": {
    "collapsed": true
   },
   "outputs": [],
   "source": [
    "#处理只要赢就是1，输球和平球都是0.    \n",
    "res=data1[\"result\"]\n",
    "#要改变dataframe一定要这样先转换为np.array\n",
    "res=np.array(res)\n",
    "for i in range(0,len(data1[\"result\"]),1):\n",
    "    if res[i]==2:\n",
    "        res[i]=1\n",
    "    else:\n",
    "        res[i]=0\n",
    "data1[\"resultwin1,0\"]=res\n"
   ]
  },
  {
   "cell_type": "code",
   "execution_count": 11,
   "metadata": {},
   "outputs": [
    {
     "name": "stderr",
     "output_type": "stream",
     "text": [
      "/anaconda3/anaconda3/lib/python3.6/site-packages/statsmodels/compat/pandas.py:56: FutureWarning: The pandas.core.datetools module is deprecated and will be removed in a future version. Please use the pandas.tseries module instead.\n",
      "  from pandas.core import datetools\n"
     ]
    }
   ],
   "source": [
    "import statsmodels.api as sm"
   ]
  },
  {
   "cell_type": "code",
   "execution_count": 69,
   "metadata": {},
   "outputs": [
    {
     "name": "stdout",
     "output_type": "stream",
     "text": [
      "Optimization terminated successfully.\n",
      "         Current function value: 0.561771\n",
      "         Iterations 6\n"
     ]
    }
   ],
   "source": [
    "#指定作为训练变量的列\n",
    "train_cols1 = data1.columns[[55,56,57,43,45,44,48,49,50,51]]\n",
    "# Index([gre, gpa, prestige_2, prestige_3, prestige_4], dtype=object)\n",
    "\n",
    "logit1=sm.Logit(data1[\"resultwin1,0\"], data1[train_cols1])\n",
    "\n",
    "# 拟合模型\n",
    "result1 = logit1.fit()"
   ]
  },
  {
   "cell_type": "code",
   "execution_count": 70,
   "metadata": {},
   "outputs": [
    {
     "name": "stdout",
     "output_type": "stream",
     "text": [
      "                           Logit Regression Results                           \n",
      "==============================================================================\n",
      "Dep. Variable:           resultwin1,0   No. Observations:                  921\n",
      "Model:                          Logit   Df Residuals:                      911\n",
      "Method:                           MLE   Df Model:                            9\n",
      "Date:                Tue, 02 Jan 2018   Pseudo R-squ.:                 0.05921\n",
      "Time:                        17:26:25   Log-Likelihood:                -517.39\n",
      "converged:                       True   LL-Null:                       -549.96\n",
      "                                        LLR p-value:                 1.362e-10\n",
      "==============================================================================\n",
      "                 coef    std err          z      P>|z|      [0.025      0.975]\n",
      "------------------------------------------------------------------------------\n",
      "1/win         -3.5336      4.251     -0.831      0.406     -11.866       4.799\n",
      "1/draw       -14.5058      5.984     -2.424      0.015     -26.234      -2.777\n",
      "1/lose        -9.0104      4.069     -2.214      0.027     -16.986      -1.035\n",
      "prowin         0.0730      0.279      0.261      0.794      -0.474       0.621\n",
      "prodraw        0.8949      1.032      0.867      0.386      -1.128       2.917\n",
      "prolse        -0.0611      0.465     -0.131      0.895      -0.973       0.851\n",
      "OwinC         -0.2348      0.149     -1.574      0.115      -0.527       0.058\n",
      "OdrawC         0.4210      0.412      1.022      0.307      -0.387       1.228\n",
      "OloseC        -0.3978      0.323     -1.230      0.219      -1.032       0.236\n",
      "intercept      8.9293      4.477      1.994      0.046       0.154      17.704\n",
      "==============================================================================\n"
     ]
    }
   ],
   "source": [
    "print(result1.summary())"
   ]
  },
  {
   "cell_type": "code",
   "execution_count": 40,
   "metadata": {
    "collapsed": true
   },
   "outputs": [],
   "source": [
    "#处理只要平局就是1，输球和赢球都是0.    \n",
    "res=data1[\"result\"]\n",
    "#要改变dataframe一定要这样先转换为np.array\n",
    "res=np.array(res)\n",
    "for i in range(0,len(data1[\"result\"]),1):\n",
    "    if res[i]==1:\n",
    "        res[i]=1\n",
    "    else:\n",
    "        res[i]=0\n",
    "data1[\"resultwin1,0draw\"]=res"
   ]
  },
  {
   "cell_type": "code",
   "execution_count": 71,
   "metadata": {},
   "outputs": [
    {
     "name": "stdout",
     "output_type": "stream",
     "text": [
      "Optimization terminated successfully.\n",
      "         Current function value: 0.551198\n",
      "         Iterations 5\n"
     ]
    }
   ],
   "source": [
    "#指定作为训练变量的列\n",
    "train_cols2 = data1.columns[[55,56,57,43,45,44,48,49,50,51]]\n",
    "# Index([gre, gpa, prestige_2, prestige_3, prestige_4], dtype=object)\n",
    "\n",
    "logit2=sm.Logit(data1[\"resultwin1,0draw\"], data1[train_cols2])\n",
    "\n",
    "# 拟合模型\n",
    "result2 = logit2.fit()"
   ]
  },
  {
   "cell_type": "code",
   "execution_count": null,
   "metadata": {
    "collapsed": true
   },
   "outputs": [],
   "source": []
  },
  {
   "cell_type": "code",
   "execution_count": 72,
   "metadata": {},
   "outputs": [
    {
     "name": "stdout",
     "output_type": "stream",
     "text": [
      "                           Logit Regression Results                           \n",
      "==============================================================================\n",
      "Dep. Variable:       resultwin1,0draw   No. Observations:                  921\n",
      "Model:                          Logit   Df Residuals:                      911\n",
      "Method:                           MLE   Df Model:                            9\n",
      "Date:                Tue, 02 Jan 2018   Pseudo R-squ.:                 0.01928\n",
      "Time:                        17:29:00   Log-Likelihood:                -507.65\n",
      "converged:                       True   LL-Null:                       -517.64\n",
      "                                        LLR p-value:                   0.01813\n",
      "==============================================================================\n",
      "                 coef    std err          z      P>|z|      [0.025      0.975]\n",
      "------------------------------------------------------------------------------\n",
      "1/win          6.6183      4.126      1.604      0.109      -1.469      14.706\n",
      "1/draw        12.2260      5.838      2.094      0.036       0.784      23.668\n",
      "1/lose         8.1001      3.891      2.082      0.037       0.474      15.726\n",
      "prowin        -0.0615      0.246     -0.250      0.803      -0.544       0.421\n",
      "prodraw        1.9817      1.022      1.939      0.052      -0.021       3.984\n",
      "prolse        -0.2909      0.463     -0.629      0.530      -1.198       0.616\n",
      "OwinC          0.1154      0.137      0.840      0.401      -0.154       0.385\n",
      "OdrawC         0.1676      0.403      0.416      0.678      -0.623       0.958\n",
      "OloseC         0.4568      0.339      1.347      0.178      -0.208       1.121\n",
      "intercept    -10.5591      4.289     -2.462      0.014     -18.965      -2.153\n",
      "==============================================================================\n"
     ]
    }
   ],
   "source": [
    "print(result2.summary())"
   ]
  },
  {
   "cell_type": "code",
   "execution_count": 41,
   "metadata": {
    "collapsed": true
   },
   "outputs": [],
   "source": [
    "#处理只要输球就是1，平球和赢球都是0.    \n",
    "res=data1[\"result\"]\n",
    "#要改变dataframe一定要这样先转换为np.array\n",
    "res=np.array(res)\n",
    "for i in range(0,len(data1[\"result\"]),1):\n",
    "    if res[i]==0:\n",
    "        res[i]=1\n",
    "    else:\n",
    "        res[i]=0\n",
    "data1[\"resultwin1,0lose\"]=res"
   ]
  },
  {
   "cell_type": "code",
   "execution_count": 73,
   "metadata": {},
   "outputs": [
    {
     "name": "stdout",
     "output_type": "stream",
     "text": [
      "Optimization terminated successfully.\n",
      "         Current function value: 0.657249\n",
      "         Iterations 5\n"
     ]
    }
   ],
   "source": [
    "#指定作为训练变量的列\n",
    "train_cols3 = data1.columns[[55,56,57,43,45,44,48,49,50,51]]\n",
    "# Index([gre, gpa, prestige_2, prestige_3, prestige_4], dtype=object)\n",
    "\n",
    "logit3=sm.Logit(data1[\"resultwin1,0lose\"], data1[train_cols3])\n",
    "\n",
    "# 拟合模型\n",
    "result3 = logit3.fit()"
   ]
  },
  {
   "cell_type": "code",
   "execution_count": null,
   "metadata": {
    "collapsed": true
   },
   "outputs": [],
   "source": []
  },
  {
   "cell_type": "code",
   "execution_count": 74,
   "metadata": {},
   "outputs": [
    {
     "name": "stdout",
     "output_type": "stream",
     "text": [
      "                           Logit Regression Results                           \n",
      "==============================================================================\n",
      "Dep. Variable:       resultwin1,0lose   No. Observations:                  921\n",
      "Model:                          Logit   Df Residuals:                      911\n",
      "Method:                           MLE   Df Model:                            9\n",
      "Date:                Tue, 02 Jan 2018   Pseudo R-squ.:                 0.04858\n",
      "Time:                        17:31:11   Log-Likelihood:                -605.33\n",
      "converged:                       True   LL-Null:                       -636.23\n",
      "                                        LLR p-value:                 5.993e-10\n",
      "==============================================================================\n",
      "                 coef    std err          z      P>|z|      [0.025      0.975]\n",
      "------------------------------------------------------------------------------\n",
      "1/win         -3.7606      3.692     -1.019      0.308     -10.996       3.475\n",
      "1/draw         2.9411      5.284      0.557      0.578      -7.415      13.297\n",
      "1/lose         0.3341      3.503      0.095      0.924      -6.531       7.199\n",
      "prowin         0.1376      0.234      0.587      0.557      -0.322       0.597\n",
      "prodraw       -2.3072      0.927     -2.488      0.013      -4.125      -0.490\n",
      "prolse         0.5573      0.482      1.156      0.248      -0.388       1.502\n",
      "OwinC          0.0882      0.123      0.719      0.472      -0.152       0.329\n",
      "OdrawC        -0.4671      0.359     -1.300      0.194      -1.172       0.237\n",
      "OloseC        -0.0047      0.334     -0.014      0.989      -0.660       0.651\n",
      "intercept     -0.2752      3.861     -0.071      0.943      -7.843       7.293\n",
      "==============================================================================\n"
     ]
    }
   ],
   "source": [
    "print(result3.summary())"
   ]
  },
  {
   "cell_type": "code",
   "execution_count": 75,
   "metadata": {
    "collapsed": true
   },
   "outputs": [],
   "source": [
    "import copy\n",
    "combos = copy.deepcopy(data1)\n",
    "predict_cols = combos.columns[[55,56,57,43,45,44,48,49,50,51]]\n",
    "combos['predictwin'] = result1.predict(combos[predict_cols])\n",
    "combos['predictdraw'] = result2.predict(combos[predict_cols])\n",
    "combos['predictlose'] = result3.predict(combos[predict_cols])"
   ]
  },
  {
   "cell_type": "code",
   "execution_count": 98,
   "metadata": {},
   "outputs": [
    {
     "data": {
      "text/html": [
       "<div>\n",
       "<style>\n",
       "    .dataframe thead tr:only-child th {\n",
       "        text-align: right;\n",
       "    }\n",
       "\n",
       "    .dataframe thead th {\n",
       "        text-align: left;\n",
       "    }\n",
       "\n",
       "    .dataframe tbody tr th {\n",
       "        vertical-align: top;\n",
       "    }\n",
       "</style>\n",
       "<table border=\"1\" class=\"dataframe\">\n",
       "  <thead>\n",
       "    <tr style=\"text-align: right;\">\n",
       "      <th></th>\n",
       "      <th>Unnamed: 0</th>\n",
       "      <th>Unnamed: 0.1</th>\n",
       "      <th>Unnamed: 0_x</th>\n",
       "      <th>AwayGoals_x</th>\n",
       "      <th>AwayHalfGoals_x</th>\n",
       "      <th>AwayName</th>\n",
       "      <th>AwayTeamId_x</th>\n",
       "      <th>ChuDraw_x</th>\n",
       "      <th>ChuLose_x</th>\n",
       "      <th>ChuWin_x</th>\n",
       "      <th>...</th>\n",
       "      <th>intercept</th>\n",
       "      <th>resultwin1,0</th>\n",
       "      <th>resultwin1,0draw</th>\n",
       "      <th>resultwin1,0lose</th>\n",
       "      <th>1/win</th>\n",
       "      <th>1/draw</th>\n",
       "      <th>1/lose</th>\n",
       "      <th>predictwin</th>\n",
       "      <th>predictdraw</th>\n",
       "      <th>predictlose</th>\n",
       "    </tr>\n",
       "  </thead>\n",
       "  <tbody>\n",
       "    <tr>\n",
       "      <th>0</th>\n",
       "      <td>0</td>\n",
       "      <td>0</td>\n",
       "      <td>0</td>\n",
       "      <td>2</td>\n",
       "      <td>1</td>\n",
       "      <td>亚特兰大</td>\n",
       "      <td>493</td>\n",
       "      <td>3.4</td>\n",
       "      <td>4.0</td>\n",
       "      <td>1.9</td>\n",
       "      <td>...</td>\n",
       "      <td>1.0</td>\n",
       "      <td>0</td>\n",
       "      <td>0</td>\n",
       "      <td>1</td>\n",
       "      <td>0.526316</td>\n",
       "      <td>0.294118</td>\n",
       "      <td>0.25</td>\n",
       "      <td>0.701873</td>\n",
       "      <td>0.165816</td>\n",
       "      <td>0.195783</td>\n",
       "    </tr>\n",
       "  </tbody>\n",
       "</table>\n",
       "<p>1 rows × 61 columns</p>\n",
       "</div>"
      ],
      "text/plain": [
       "   Unnamed: 0  Unnamed: 0.1  Unnamed: 0_x  AwayGoals_x  AwayHalfGoals_x  \\\n",
       "0           0             0             0            2                1   \n",
       "\n",
       "  AwayName  AwayTeamId_x  ChuDraw_x  ChuLose_x  ChuWin_x     ...       \\\n",
       "0     亚特兰大           493        3.4        4.0       1.9     ...        \n",
       "\n",
       "  intercept  resultwin1,0  resultwin1,0draw  resultwin1,0lose     1/win  \\\n",
       "0       1.0             0                 0                 1  0.526316   \n",
       "\n",
       "     1/draw  1/lose predictwin  predictdraw  predictlose  \n",
       "0  0.294118    0.25   0.701873     0.165816     0.195783  \n",
       "\n",
       "[1 rows x 61 columns]"
      ]
     },
     "execution_count": 98,
     "metadata": {},
     "output_type": "execute_result"
    }
   ],
   "source": [
    "combos.head(1)"
   ]
  },
  {
   "cell_type": "code",
   "execution_count": 80,
   "metadata": {},
   "outputs": [
    {
     "data": {
      "text/plain": [
       "array([[ 0.5 ,  0.57],\n",
       "       [ 0.55,  0.63]])"
      ]
     },
     "execution_count": 80,
     "metadata": {},
     "output_type": "execute_result"
    }
   ],
   "source": [
    "import numpy as np\n",
    "predict=np.array([[0.5,0.57],[0.55,0.63],[0.6,0.66],[]])\n",
    "predict"
   ]
  },
  {
   "cell_type": "code",
   "execution_count": 91,
   "metadata": {},
   "outputs": [
    {
     "data": {
      "text/plain": [
       "[0.5,\n",
       " 0.5744234800838575,\n",
       " 0.51,\n",
       " 0.5797413793103449,\n",
       " 0.52,\n",
       " 0.5907365223993926,\n",
       " 0.53,\n",
       " 0.594883997620464,\n",
       " 0.54,\n",
       " 0.5998018821198613,\n",
       " 0.55,\n",
       " 0.6041576440017323,\n",
       " 0.56,\n",
       " 0.6073237241916635,\n",
       " 0.57,\n",
       " 0.6111903064861012,\n",
       " 0.58,\n",
       " 0.6154100529100529,\n",
       " 0.59,\n",
       " 0.6183635227982511,\n",
       " 0.6,\n",
       " 0.6199581714968628,\n",
       " 0.61,\n",
       " 0.6204211133544851,\n",
       " 0.62,\n",
       " 0.6220848552964315,\n",
       " 0.63,\n",
       " 0.6234550947541884,\n",
       " 0.64,\n",
       " 0.6239224137931034,\n",
       " 0.65,\n",
       " 0.6248341735208278,\n",
       " 0.66,\n",
       " 0.6255564283843938,\n",
       " 0.67,\n",
       " 0.6259720062208398,\n",
       " 0.68,\n",
       " 0.6267352185089974,\n",
       " 0.69,\n",
       " 0.6268199233716475,\n",
       " 0.7,\n",
       " 0.626144455747711,\n",
       " 0.71,\n",
       " 0.626078132927448,\n",
       " 0.72,\n",
       " 0.6257280324132691,\n",
       " 0.73,\n",
       " 0.6254425897824988,\n",
       " 0.74,\n",
       " 0.6249684104119282,\n",
       " 0.75,\n",
       " 0.6246526900732509,\n",
       " 0.76,\n",
       " 0.624337288563494,\n",
       " 0.77,\n",
       " 0.6240222053999496,\n",
       " 0.78,\n",
       " 0.6237074401008827,\n",
       " 0.79,\n",
       " 0.6233929921855307,\n",
       " 0.8,\n",
       " 0.6230788611740993,\n",
       " 0.81,\n",
       " 0.6230788611740993,\n",
       " 0.82,\n",
       " 0.6230788611740993,\n",
       " 0.83,\n",
       " 0.6230788611740993,\n",
       " 0.84,\n",
       " 0.6230788611740993,\n",
       " 0.85,\n",
       " 0.6230788611740993,\n",
       " 0.86,\n",
       " 0.6230788611740993,\n",
       " 0.87,\n",
       " 0.6230788611740993,\n",
       " 0.88,\n",
       " 0.6230788611740993,\n",
       " 0.89,\n",
       " 0.6230788611740993,\n",
       " 0.9,\n",
       " 0.6230788611740993,\n",
       " 0.91,\n",
       " 0.6230788611740993,\n",
       " 0.92,\n",
       " 0.6230788611740993,\n",
       " 0.93,\n",
       " 0.6230788611740993,\n",
       " 0.94,\n",
       " 0.6230788611740993]"
      ]
     },
     "execution_count": 91,
     "metadata": {},
     "output_type": "execute_result"
    }
   ],
   "source": [
    "preall=0\n",
    "preau=0\n",
    "list1=[]\n",
    "for i in range(50,95,1):\n",
    "    \n",
    "    for index,row in combos.iterrows():\n",
    "        big=row[\"predictwin\"]\n",
    "        re=2\n",
    "        if row[\"predictwin\"]<=row[\"predictdraw\"]:\n",
    "            big=row[\"predictwin\"]\n",
    "            re=1\n",
    "        if big<=row[\"predictlose\"]:\n",
    "            big=row[\"predictlose\"]\n",
    "            re=0\n",
    "        if big>=i/100:\n",
    "            preall+=1\n",
    "            if row[\"result\"]==re:\n",
    "                preau+=1\n",
    "    \n",
    "    list1.append(i/100)  \n",
    "    list1.append(preau/preall)\n",
    "\n",
    "    \n",
    "        \n",
    "    \n",
    "    \n",
    "list1"
   ]
  },
  {
   "cell_type": "code",
   "execution_count": 95,
   "metadata": {},
   "outputs": [
    {
     "data": {
      "text/plain": [
       "90"
      ]
     },
     "execution_count": 95,
     "metadata": {},
     "output_type": "execute_result"
    }
   ],
   "source": [
    "a1.size"
   ]
  },
  {
   "cell_type": "code",
   "execution_count": 99,
   "metadata": {
    "collapsed": true
   },
   "outputs": [],
   "source": [
    "a1=np.array(list1)\n",
    "a1=a1.reshape(45,2)\n",
    "dfa1=pd.DataFrame(a1)"
   ]
  },
  {
   "cell_type": "code",
   "execution_count": 103,
   "metadata": {},
   "outputs": [
    {
     "data": {
      "text/html": [
       "<div>\n",
       "<style>\n",
       "    .dataframe thead tr:only-child th {\n",
       "        text-align: right;\n",
       "    }\n",
       "\n",
       "    .dataframe thead th {\n",
       "        text-align: left;\n",
       "    }\n",
       "\n",
       "    .dataframe tbody tr th {\n",
       "        vertical-align: top;\n",
       "    }\n",
       "</style>\n",
       "<table border=\"1\" class=\"dataframe\">\n",
       "  <thead>\n",
       "    <tr style=\"text-align: right;\">\n",
       "      <th></th>\n",
       "      <th>0</th>\n",
       "      <th>1</th>\n",
       "    </tr>\n",
       "  </thead>\n",
       "  <tbody>\n",
       "    <tr>\n",
       "      <th>0</th>\n",
       "      <td>0.5</td>\n",
       "      <td>0.574423</td>\n",
       "    </tr>\n",
       "  </tbody>\n",
       "</table>\n",
       "</div>"
      ],
      "text/plain": [
       "     0         1\n",
       "0  0.5  0.574423"
      ]
     },
     "execution_count": 103,
     "metadata": {},
     "output_type": "execute_result"
    }
   ],
   "source": [
    "dfa1.head(1)"
   ]
  },
  {
   "cell_type": "code",
   "execution_count": 102,
   "metadata": {
    "collapsed": true
   },
   "outputs": [],
   "source": [
    "import matplotlib.pyplot as plt"
   ]
  },
  {
   "cell_type": "code",
   "execution_count": 108,
   "metadata": {},
   "outputs": [
    {
     "data": {
      "image/png": "[encoded data removed]",
      "text/plain": [
       "<matplotlib.figure.Figure at 0x1c1b4b5898>"
      ]
     },
     "metadata": {},
     "output_type": "display_data"
    }
   ],
   "source": [
    "plt.plot(dfa1.iloc[:,0],dfa1.iloc[:,1],\"ro\")\n",
    "plt.axis([0.5,1,0.55,0.68])\n",
    "plt.ylabel(\"accuracy\")\n",
    "plt.xlabel(\"threshold\")\n",
    "plt.show()"
   ]
  },
  {
   "cell_type": "code",
   "execution_count": 86,
   "metadata": {},
   "outputs": [
    {
     "data": {
      "text/plain": [
       "[1, 2]"
      ]
     },
     "execution_count": 86,
     "metadata": {},
     "output_type": "execute_result"
    }
   ],
   "source": [
    "a=[]\n",
    "a.append(1)\n",
    "a.append(2)\n",
    "a"
   ]
  },
  {
   "cell_type": "code",
   "execution_count": 110,
   "metadata": {},
   "outputs": [
    {
     "data": {
      "text/plain": [
       "(921, 61)"
      ]
     },
     "execution_count": 110,
     "metadata": {},
     "output_type": "execute_result"
    }
   ],
   "source": [
    "combos.shape"
   ]
  },
  {
   "cell_type": "code",
   "execution_count": 113,
   "metadata": {},
   "outputs": [
    {
     "data": {
      "text/plain": [
       "Index(['Unnamed: 0', 'Unnamed: 0.1', 'Unnamed: 0_x', 'AwayGoals_x',\n",
       "       'AwayHalfGoals_x', 'AwayName', 'AwayTeamId_x', 'ChuDraw_x', 'ChuLose_x',\n",
       "       'ChuWin_x', 'Color_x', 'CorpId_x', 'DrawOdds_x', 'GameId_x',\n",
       "       'GameName_x', 'HomeGoals_x', 'HomeHalfGoals_x', 'HomeName',\n",
       "       'HomeTeamId_x', 'LoseOdds_x', 'MatchId_x', 'StartTime_x', 'WinOdds_x',\n",
       "       'Unnamed: 0_y', 'AwayGoals_y', 'AwayHalfGoals_y', 'AwayTeamId_y',\n",
       "       'ChuDraw_y', 'ChuLose_y', 'ChuWin_y', 'Color_y', 'CorpId_y',\n",
       "       'DrawOdds_y', 'GameId_y', 'GameName_y', 'HomeGoals_y',\n",
       "       'HomeHalfGoals_y', 'HomeTeamId_y', 'LoseOdds_y', 'MatchId_y',\n",
       "       'StartTime_y', 'WinOdds_y', 'result', 'prowin', 'prolse', 'prodraw',\n",
       "       'all', 'winoupeibianhua', 'OwinC', 'OdrawC', 'OloseC', 'intercept',\n",
       "       'resultwin1,0', 'resultwin1,0draw', 'resultwin1,0lose', '1/win',\n",
       "       '1/draw', '1/lose', 'predictwin', 'predictdraw', 'predictlose'],\n",
       "      dtype='object')"
      ]
     },
     "execution_count": 113,
     "metadata": {},
     "output_type": "execute_result"
    }
   ],
   "source": [
    "combos.columns\n"
   ]
  },
  {
   "cell_type": "code",
   "execution_count": 140,
   "metadata": {},
   "outputs": [
    {
     "data": {
      "text/plain": [
       "[0.0,\n",
       " 166.9699999999999,\n",
       " 0.01,\n",
       " 112.06999999999992,\n",
       " 0.02,\n",
       " 110.18999999999991,\n",
       " 0.03,\n",
       " 138.47999999999996,\n",
       " 0.04,\n",
       " 147.30999999999995,\n",
       " 0.05,\n",
       " 132.99999999999997,\n",
       " 0.06,\n",
       " 93.09,\n",
       " 0.07,\n",
       " 64.19,\n",
       " 0.08,\n",
       " 6.57,\n",
       " 0.09,\n",
       " 5.85,\n",
       " 0.1,\n",
       " 16.949999999999996,\n",
       " 0.11,\n",
       " 26.4,\n",
       " 0.12,\n",
       " 12.799999999999997,\n",
       " 0.13,\n",
       " 15.75,\n",
       " 0.14,\n",
       " 12.399999999999999,\n",
       " 0.15,\n",
       " 14.399999999999999,\n",
       " 0.16,\n",
       " 9.899999999999999,\n",
       " 0.17,\n",
       " 7.799999999999999,\n",
       " 0.18,\n",
       " 6.799999999999999,\n",
       " 0.19,\n",
       " 4.199999999999999,\n",
       " 0.2,\n",
       " 4.2,\n",
       " 0.21,\n",
       " 4.2,\n",
       " 0.22,\n",
       " 4.2,\n",
       " 0.23,\n",
       " 4.2,\n",
       " 0.24,\n",
       " 4.2,\n",
       " 0.25,\n",
       " 4.2,\n",
       " 0.26,\n",
       " 4.2,\n",
       " 0.27,\n",
       " 4.2,\n",
       " 0.28,\n",
       " 0,\n",
       " 0.29,\n",
       " 0,\n",
       " 0.3,\n",
       " 0,\n",
       " 0.31,\n",
       " 0,\n",
       " 0.32,\n",
       " 0,\n",
       " 0.33,\n",
       " 0,\n",
       " 0.34,\n",
       " 0,\n",
       " 0.35,\n",
       " 0,\n",
       " 0.36,\n",
       " 0,\n",
       " 0.37,\n",
       " 0,\n",
       " 0.38,\n",
       " 0,\n",
       " 0.39,\n",
       " 0]"
      ]
     },
     "execution_count": 140,
     "metadata": {},
     "output_type": "execute_result"
    }
   ],
   "source": [
    "\n",
    "list2=[]\n",
    "for i in range(0,40,1):   \n",
    "    money=0\n",
    "    for index,row in combos.iterrows():\n",
    "        l1=[(row['predictwin']-1/row['ChuWin_x']),(row['predictdraw']-1/row['ChuDraw_x']),(row['predictlose']-1/row['ChuLose_x'])]\n",
    "        if max(l1)>i/100:\n",
    "            b=l1.index(max(l1))\n",
    "            if b==0:\n",
    "                if row[\"result\"]==2:\n",
    "                    money=money+(row['ChuWin_x']-1)\n",
    "                else:\n",
    "                    money=money-1\n",
    "            if b==1:\n",
    "                if row[\"result\"]==1:\n",
    "                    money=money+(row['ChuDraw_x']-1)\n",
    "                else:\n",
    "                    money=money-1\n",
    "            if b==2:\n",
    "                if row[\"result\"]==0:\n",
    "                    money=money+(row['ChuLose_x']-1)\n",
    "                else:\n",
    "                    money=money-1\n",
    "    list2.append(i/100)\n",
    "    list2.append(money)\n",
    "                \n",
    "        \n",
    "        \n",
    "list2  "
   ]
  },
  {
   "cell_type": "code",
   "execution_count": 153,
   "metadata": {},
   "outputs": [],
   "source": [
    "al2=np.array(list2)\n",
    "al2=al2.reshape(40,2)\n",
    "dfal2=pd.DataFrame(al2)"
   ]
  },
  {
   "cell_type": "code",
   "execution_count": 152,
   "metadata": {},
   "outputs": [
    {
     "data": {
      "text/plain": [
       "(80, 1)"
      ]
     },
     "execution_count": 152,
     "metadata": {},
     "output_type": "execute_result"
    }
   ],
   "source": [
    "dfal2.shape"
   ]
  },
  {
   "cell_type": "code",
   "execution_count": 155,
   "metadata": {},
   "outputs": [
    {
     "data": {
      "image/png": "[encoded data removed]",
      "text/plain": [
       "<matplotlib.figure.Figure at 0x1c1bca75f8>"
      ]
     },
     "metadata": {},
     "output_type": "display_data"
    }
   ],
   "source": [
    "plt.plot(dfal2.iloc[:,0],dfal2.iloc[:,1],\"ro\")\n",
    "plt.axis([0,0.4,0,180])\n",
    "plt.ylabel(\"Profitability$\")\n",
    "plt.xlabel(\"threshold\")\n",
    "plt.show()"
   ]
  },
  {
   "cell_type": "code",
   "execution_count": 114,
   "metadata": {},
   "outputs": [
    {
     "name": "stdout",
     "output_type": "stream",
     "text": [
      "7\n"
     ]
    }
   ],
   "source": [
    "c = [-10,-5,0,5,3,10,15,-20,25]\n",
    "\n",
    "print(c.index(min(c)))"
   ]
  },
  {
   "cell_type": "code",
   "execution_count": 112,
   "metadata": {
    "collapsed": true
   },
   "outputs": [],
   "source": [
    "combos.to_csv(\"reprot result.csv\",encoding=\"utf_8_sig\")"
   ]
  }
 ],
 "metadata": {
  "kernelspec": {
   "display_name": "Python 3",
   "language": "python",
   "name": "python3"
  },
  "language_info": {
   "codemirror_mode": {
    "name": "ipython",
    "version": 3
   },
   "file_extension": ".py",
   "mimetype": "text/x-python",
   "name": "python",
   "nbconvert_exporter": "python",
   "pygments_lexer": "ipython3",
   "version": "3.6.2"
  }
 },
 "nbformat": 4,
 "nbformat_minor": 2
}
