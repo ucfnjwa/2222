{
 "cells": [
  {
   "cell_type": "code",
   "execution_count": 51,
   "metadata": {
    "collapsed": true
   },
   "outputs": [],
   "source": [
    "import requests"
   ]
  },
  {
   "cell_type": "code",
   "execution_count": null,
   "metadata": {
    "collapsed": true
   },
   "outputs": [],
   "source": [
    "#整个文档都被澳门覆盖了"
   ]
  },
  {
   "cell_type": "code",
   "execution_count": 52,
   "metadata": {
    "collapsed": true
   },
   "outputs": [],
   "source": [
    "import requests\n",
    "#122 is INTERWETTEN\n",
    "#277 is maoca\n",
    "payload = {\n",
    "    'corpId': 277,\n",
    "    'winMin': 1.1,\n",
    "    'winMax': 1.4,\n",
    "    'drawMin': None,\n",
    "    'drawMax': None,\n",
    "    'lostMin': None,\n",
    "    'lostMax': None,\n",
    "    'indOddType': 0,\n",
    "    'gameId': -1,\n",
    "    'showcount': 500\n",
    "}\n",
    "response = requests.post('http://d.dacai.com/huicha/peilv.html', params=payload)\n",
    "\n",
    "content_json = response.json()\n",
    "\n"
   ]
  },
  {
   "cell_type": "code",
   "execution_count": 53,
   "metadata": {
    "collapsed": true
   },
   "outputs": [],
   "source": [
    "bifen=content_json['SelectIndOddCorps']"
   ]
  },
  {
   "cell_type": "code",
   "execution_count": 55,
   "metadata": {
    "collapsed": true
   },
   "outputs": [],
   "source": [
    "def getwin(winmin,winmax):\n",
    "    import requests\n",
    "    payload = {\n",
    "        'corpId': 277,\n",
    "        'winMin': winmin,\n",
    "        'winMax': winmax,\n",
    "        'drawMin': None,\n",
    "        'drawMax': None,\n",
    "        'lostMin': None,\n",
    "        'lostMax': None,\n",
    "        'indOddType': 0,\n",
    "        'gameId': -1,\n",
    "        'showcount': 500\n",
    "     }\n",
    "    response = requests.post('http://d.dacai.com/huicha/peilv.html', params=payload)\n",
    "\n",
    "    content_json = response.json()\n",
    "    bifen=content_json['SelectIndOddCorps']\n",
    "    import numpy as py\n",
    "    import pandas as pd\n",
    "    a=pd.DataFrame.from_records([bifen[0]])#创造第一个\n",
    "    for i in range(len(bifen)):\n",
    "        add=pd.DataFrame.from_records([bifen[i]])\n",
    "        a=[a,add]\n",
    "        a=pd.concat(a)\n",
    "    return(a)"
   ]
  },
  {
   "cell_type": "code",
   "execution_count": 56,
   "metadata": {},
   "outputs": [
    {
     "data": {
      "text/plain": [
       "(12893, 20)"
      ]
     },
     "execution_count": 56,
     "metadata": {},
     "output_type": "execute_result"
    }
   ],
   "source": [
    "import pandas as pd\n",
    "first1=pd.DataFrame.from_records([bifen[0]])\n",
    "for i in range(19,60,1):\n",
    "    new=getwin(i/10,(i+1)/10)\n",
    "    first1=[first1,new]\n",
    "    first1=pd.concat(first1)\n",
    "first1.shape"
   ]
  },
  {
   "cell_type": "code",
   "execution_count": 57,
   "metadata": {
    "collapsed": true
   },
   "outputs": [],
   "source": [
    "first1.to_csv(\"interwteten1.9-6.0.csv\")\n",
    "datab=pd.read_csv(\"interwteten1.9-6.0.csv\")\n",
    "data3=pd.read_csv(\"bifa1.9to6.0.csv\")\n",
    "datamerge=pd.merge(datab,data3,how=\"inner\",on=[\"AwayName\",\"HomeName\"])\n",
    "datamerge.to_csv(\"pipeichenggonginter+betfair.csv\",encoding=\"utf_8_sig\")"
   ]
  },
  {
   "cell_type": "code",
   "execution_count": 58,
   "metadata": {},
   "outputs": [
    {
     "data": {
      "text/plain": [
       "(3349, 40)"
      ]
     },
     "execution_count": 58,
     "metadata": {},
     "output_type": "execute_result"
    }
   ],
   "source": [
    "datamerge.shape"
   ]
  },
  {
   "cell_type": "code",
   "execution_count": 59,
   "metadata": {},
   "outputs": [
    {
     "data": {
      "text/html": [
       "<div>\n",
       "<style>\n",
       "    .dataframe thead tr:only-child th {\n",
       "        text-align: right;\n",
       "    }\n",
       "\n",
       "    .dataframe thead th {\n",
       "        text-align: left;\n",
       "    }\n",
       "\n",
       "    .dataframe tbody tr th {\n",
       "        vertical-align: top;\n",
       "    }\n",
       "</style>\n",
       "<table border=\"1\" class=\"dataframe\">\n",
       "  <thead>\n",
       "    <tr style=\"text-align: right;\">\n",
       "      <th></th>\n",
       "      <th>Unnamed: 0</th>\n",
       "      <th>Unnamed: 0_x</th>\n",
       "      <th>AwayGoals_x</th>\n",
       "      <th>AwayHalfGoals_x</th>\n",
       "      <th>AwayName</th>\n",
       "      <th>AwayTeamId_x</th>\n",
       "      <th>ChuDraw_x</th>\n",
       "      <th>ChuLose_x</th>\n",
       "      <th>ChuWin_x</th>\n",
       "      <th>Color_x</th>\n",
       "      <th>...</th>\n",
       "      <th>GameId_y</th>\n",
       "      <th>GameName_y</th>\n",
       "      <th>HomeGoals_y</th>\n",
       "      <th>HomeHalfGoals_y</th>\n",
       "      <th>HomeTeamId_y</th>\n",
       "      <th>LoseOdds_y</th>\n",
       "      <th>MatchId_y</th>\n",
       "      <th>StartTime_y</th>\n",
       "      <th>WinOdds_y</th>\n",
       "      <th>result</th>\n",
       "    </tr>\n",
       "  </thead>\n",
       "  <tbody>\n",
       "    <tr>\n",
       "      <th>0</th>\n",
       "      <td>0</td>\n",
       "      <td>0</td>\n",
       "      <td>1</td>\n",
       "      <td>0</td>\n",
       "      <td>西汉姆联</td>\n",
       "      <td>62</td>\n",
       "      <td>6.06</td>\n",
       "      <td>10.86</td>\n",
       "      <td>1.29</td>\n",
       "      <td>F90000</td>\n",
       "      <td>...</td>\n",
       "      <td>19</td>\n",
       "      <td>英超</td>\n",
       "      <td>3</td>\n",
       "      <td>1</td>\n",
       "      <td>156</td>\n",
       "      <td>5.10</td>\n",
       "      <td>594461</td>\n",
       "      <td>/Date(1353859140000)/</td>\n",
       "      <td>1.68</td>\n",
       "      <td>1</td>\n",
       "    </tr>\n",
       "    <tr>\n",
       "      <th>1</th>\n",
       "      <td>1</td>\n",
       "      <td>0</td>\n",
       "      <td>0</td>\n",
       "      <td>0</td>\n",
       "      <td>根特</td>\n",
       "      <td>6</td>\n",
       "      <td>3.42</td>\n",
       "      <td>3.81</td>\n",
       "      <td>2.00</td>\n",
       "      <td>737300</td>\n",
       "      <td>...</td>\n",
       "      <td>24</td>\n",
       "      <td>比甲</td>\n",
       "      <td>5</td>\n",
       "      <td>2</td>\n",
       "      <td>476</td>\n",
       "      <td>5.60</td>\n",
       "      <td>600082</td>\n",
       "      <td>/Date(1351623600000)/</td>\n",
       "      <td>1.53</td>\n",
       "      <td>2</td>\n",
       "    </tr>\n",
       "    <tr>\n",
       "      <th>2</th>\n",
       "      <td>2</td>\n",
       "      <td>0</td>\n",
       "      <td>0</td>\n",
       "      <td>0</td>\n",
       "      <td>根特</td>\n",
       "      <td>6</td>\n",
       "      <td>3.42</td>\n",
       "      <td>3.81</td>\n",
       "      <td>2.00</td>\n",
       "      <td>737300</td>\n",
       "      <td>...</td>\n",
       "      <td>24</td>\n",
       "      <td>比甲</td>\n",
       "      <td>5</td>\n",
       "      <td>2</td>\n",
       "      <td>476</td>\n",
       "      <td>5.60</td>\n",
       "      <td>600082</td>\n",
       "      <td>/Date(1351623600000)/</td>\n",
       "      <td>1.53</td>\n",
       "      <td>2</td>\n",
       "    </tr>\n",
       "    <tr>\n",
       "      <th>3</th>\n",
       "      <td>3</td>\n",
       "      <td>0</td>\n",
       "      <td>0</td>\n",
       "      <td>0</td>\n",
       "      <td>阿尔梅利</td>\n",
       "      <td>483</td>\n",
       "      <td>3.15</td>\n",
       "      <td>4.95</td>\n",
       "      <td>1.98</td>\n",
       "      <td>C20711</td>\n",
       "      <td>...</td>\n",
       "      <td>21</td>\n",
       "      <td>西乙</td>\n",
       "      <td>0</td>\n",
       "      <td>0</td>\n",
       "      <td>3238</td>\n",
       "      <td>2.94</td>\n",
       "      <td>606937</td>\n",
       "      <td>/Date(1369490400000)/</td>\n",
       "      <td>2.36</td>\n",
       "      <td>2</td>\n",
       "    </tr>\n",
       "    <tr>\n",
       "      <th>4</th>\n",
       "      <td>4</td>\n",
       "      <td>0</td>\n",
       "      <td>0</td>\n",
       "      <td>0</td>\n",
       "      <td>法基克</td>\n",
       "      <td>1495</td>\n",
       "      <td>3.22</td>\n",
       "      <td>3.46</td>\n",
       "      <td>1.93</td>\n",
       "      <td>1C75C3</td>\n",
       "      <td>...</td>\n",
       "      <td>141</td>\n",
       "      <td>苏甲</td>\n",
       "      <td>2</td>\n",
       "      <td>1</td>\n",
       "      <td>243</td>\n",
       "      <td>2.92</td>\n",
       "      <td>613269</td>\n",
       "      <td>/Date(1353164400000)/</td>\n",
       "      <td>2.26</td>\n",
       "      <td>1</td>\n",
       "    </tr>\n",
       "  </tbody>\n",
       "</table>\n",
       "<p>5 rows × 42 columns</p>\n",
       "</div>"
      ],
      "text/plain": [
       "   Unnamed: 0  Unnamed: 0_x  AwayGoals_x  AwayHalfGoals_x AwayName  \\\n",
       "0           0             0            1                0     西汉姆联   \n",
       "1           1             0            0                0       根特   \n",
       "2           2             0            0                0       根特   \n",
       "3           3             0            0                0     阿尔梅利   \n",
       "4           4             0            0                0      法基克   \n",
       "\n",
       "   AwayTeamId_x  ChuDraw_x  ChuLose_x  ChuWin_x Color_x   ...    GameId_y  \\\n",
       "0            62       6.06      10.86      1.29  F90000   ...          19   \n",
       "1             6       3.42       3.81      2.00  737300   ...          24   \n",
       "2             6       3.42       3.81      2.00  737300   ...          24   \n",
       "3           483       3.15       4.95      1.98  C20711   ...          21   \n",
       "4          1495       3.22       3.46      1.93  1C75C3   ...         141   \n",
       "\n",
       "   GameName_y  HomeGoals_y HomeHalfGoals_y  HomeTeamId_y  LoseOdds_y  \\\n",
       "0          英超            3               1           156        5.10   \n",
       "1          比甲            5               2           476        5.60   \n",
       "2          比甲            5               2           476        5.60   \n",
       "3          西乙            0               0          3238        2.94   \n",
       "4          苏甲            2               1           243        2.92   \n",
       "\n",
       "  MatchId_y            StartTime_y  WinOdds_y  result  \n",
       "0    594461  /Date(1353859140000)/       1.68       1  \n",
       "1    600082  /Date(1351623600000)/       1.53       2  \n",
       "2    600082  /Date(1351623600000)/       1.53       2  \n",
       "3    606937  /Date(1369490400000)/       2.36       2  \n",
       "4    613269  /Date(1353164400000)/       2.26       1  \n",
       "\n",
       "[5 rows x 42 columns]"
      ]
     },
     "execution_count": 59,
     "metadata": {},
     "output_type": "execute_result"
    }
   ],
   "source": [
    "import numpy as np\n",
    "data1=pd.read_csv(\"pipeichenggonginter+betfair.csv\")\n",
    "#加上赛果\n",
    "data1[\"result\"]=data1[\"HomeName\"]\n",
    "datanew=data1[\"result\"]\n",
    "dataarray=np.array(datanew)\n",
    "for i in range(0,len(data1[\"HomeName\"]),1):\n",
    "    if data1[\"HomeGoals_x\"][i]>data1[\"AwayGoals_x\"][i]:\n",
    "        dataarray[i]=2\n",
    "    elif data1[\"HomeGoals_x\"][i]==data1[\"AwayGoals_x\"][i]:\n",
    "        dataarray[i]=1\n",
    "    else:\n",
    "        dataarray[i]=0\n",
    "dataarray=dataarray.astype(int)\n",
    "data1[\"result\"]=dataarray\n",
    "data1.head()"
   ]
  },
  {
   "cell_type": "code",
   "execution_count": 60,
   "metadata": {
    "collapsed": true
   },
   "outputs": [],
   "source": [
    "data1[\"prowin\"]=1-(1/data1['WinOdds_x'])*data1['WinOdds_y']"
   ]
  },
  {
   "cell_type": "code",
   "execution_count": 61,
   "metadata": {
    "collapsed": true
   },
   "outputs": [],
   "source": [
    "data1[\"prolse\"]=1-(1/data1['LoseOdds_x'])*data1['LoseOdds_y']"
   ]
  },
  {
   "cell_type": "code",
   "execution_count": 62,
   "metadata": {
    "collapsed": true
   },
   "outputs": [],
   "source": [
    "data1[\"prodraw\"]=1-(1/data1['DrawOdds_x'])*data1['DrawOdds_y']"
   ]
  },
  {
   "cell_type": "code",
   "execution_count": 63,
   "metadata": {},
   "outputs": [],
   "source": [
    "data1[\"winoupeibianhua\"]=1"
   ]
  },
  {
   "cell_type": "code",
   "execution_count": 64,
   "metadata": {
    "collapsed": true
   },
   "outputs": [],
   "source": [
    "data1[\"all\"]=data1[\"prowin\"]+data1[\"prolse\"]+data1[\"prodraw\"]"
   ]
  },
  {
   "cell_type": "code",
   "execution_count": 65,
   "metadata": {
    "collapsed": true
   },
   "outputs": [],
   "source": [
    "data1.to_csv(\"intertenpipeichengongjiabianlian.csv\",encoding=\"utf_8_sig\")"
   ]
  },
  {
   "cell_type": "code",
   "execution_count": 67,
   "metadata": {
    "collapsed": true
   },
   "outputs": [],
   "source": [
    "#报告内容当中的\n",
    "data1=pd.read_csv(\"intertenpipeichengongjiabianlian.csv\")"
   ]
  },
  {
   "cell_type": "code",
   "execution_count": 68,
   "metadata": {
    "collapsed": true
   },
   "outputs": [],
   "source": [
    "#增加了所有变量\n",
    "data1[\"prowin\"]=1-(1/data1['WinOdds_y'])*data1['WinOdds_x']\n",
    "data1[\"prolse\"]=1-(1/data1['LoseOdds_y'])*data1['LoseOdds_x']\n",
    "data1[\"prodraw\"]=1-(1/data1['DrawOdds_y'])*data1['DrawOdds_x']\n",
    "data1[\"OwinC\"]=data1['WinOdds_x']-data1['ChuWin_x']\n",
    "data1[\"OdrawC\"]=data1['DrawOdds_x']-data1['ChuDraw_x']\n",
    "data1[\"OloseC\"]=data1['LoseOdds_x']-data1['ChuLose_x']\n",
    "\n",
    "data1[\"intercept\"]=1.0\n"
   ]
  },
  {
   "cell_type": "code",
   "execution_count": 69,
   "metadata": {
    "collapsed": true
   },
   "outputs": [],
   "source": [
    "data1[\"1/win\"]=1/data1[\"ChuWin_x\"]\n",
    "data1[\"1/draw\"]=1/data1[\"ChuDraw_x\"]\n",
    "data1[\"1/lose\"]=1/data1[\"ChuLose_x\"]"
   ]
  },
  {
   "cell_type": "code",
   "execution_count": 70,
   "metadata": {
    "collapsed": true
   },
   "outputs": [],
   "source": [
    "#处理只要赢就是1，输球和平球都是0.    \n",
    "res=data1[\"result\"]\n",
    "#要改变dataframe一定要这样先转换为np.array\n",
    "res=np.array(res)\n",
    "for i in range(0,len(data1[\"result\"]),1):\n",
    "    if res[i]==2:\n",
    "        res[i]=1\n",
    "    else:\n",
    "        res[i]=0\n",
    "data1[\"resultwin1,0\"]=res"
   ]
  },
  {
   "cell_type": "code",
   "execution_count": 71,
   "metadata": {},
   "outputs": [],
   "source": [
    "import statsmodels.api as sm"
   ]
  },
  {
   "cell_type": "code",
   "execution_count": 72,
   "metadata": {},
   "outputs": [
    {
     "data": {
      "text/html": [
       "<div>\n",
       "<style>\n",
       "    .dataframe thead tr:only-child th {\n",
       "        text-align: right;\n",
       "    }\n",
       "\n",
       "    .dataframe thead th {\n",
       "        text-align: left;\n",
       "    }\n",
       "\n",
       "    .dataframe tbody tr th {\n",
       "        vertical-align: top;\n",
       "    }\n",
       "</style>\n",
       "<table border=\"1\" class=\"dataframe\">\n",
       "  <thead>\n",
       "    <tr style=\"text-align: right;\">\n",
       "      <th></th>\n",
       "      <th>Unnamed: 0</th>\n",
       "      <th>Unnamed: 0.1</th>\n",
       "      <th>Unnamed: 0_x</th>\n",
       "      <th>AwayGoals_x</th>\n",
       "      <th>AwayHalfGoals_x</th>\n",
       "      <th>AwayName</th>\n",
       "      <th>AwayTeamId_x</th>\n",
       "      <th>ChuDraw_x</th>\n",
       "      <th>ChuLose_x</th>\n",
       "      <th>ChuWin_x</th>\n",
       "      <th>...</th>\n",
       "      <th>winoupeibianhua</th>\n",
       "      <th>all</th>\n",
       "      <th>OwinC</th>\n",
       "      <th>OdrawC</th>\n",
       "      <th>OloseC</th>\n",
       "      <th>intercept</th>\n",
       "      <th>1/win</th>\n",
       "      <th>1/draw</th>\n",
       "      <th>1/lose</th>\n",
       "      <th>resultwin1,0</th>\n",
       "    </tr>\n",
       "  </thead>\n",
       "  <tbody>\n",
       "    <tr>\n",
       "      <th>0</th>\n",
       "      <td>0</td>\n",
       "      <td>0</td>\n",
       "      <td>0</td>\n",
       "      <td>1</td>\n",
       "      <td>0</td>\n",
       "      <td>西汉姆联</td>\n",
       "      <td>62</td>\n",
       "      <td>6.06</td>\n",
       "      <td>10.86</td>\n",
       "      <td>1.29</td>\n",
       "      <td>...</td>\n",
       "      <td>1</td>\n",
       "      <td>0.672377</td>\n",
       "      <td>-0.01</td>\n",
       "      <td>0.12</td>\n",
       "      <td>1.63</td>\n",
       "      <td>1.0</td>\n",
       "      <td>0.775194</td>\n",
       "      <td>0.165017</td>\n",
       "      <td>0.092081</td>\n",
       "      <td>0</td>\n",
       "    </tr>\n",
       "  </tbody>\n",
       "</table>\n",
       "<p>1 rows × 56 columns</p>\n",
       "</div>"
      ],
      "text/plain": [
       "   Unnamed: 0  Unnamed: 0.1  Unnamed: 0_x  AwayGoals_x  AwayHalfGoals_x  \\\n",
       "0           0             0             0            1                0   \n",
       "\n",
       "  AwayName  AwayTeamId_x  ChuDraw_x  ChuLose_x  ChuWin_x      ...       \\\n",
       "0     西汉姆联            62       6.06      10.86      1.29      ...        \n",
       "\n",
       "  winoupeibianhua       all  OwinC  OdrawC OloseC  intercept     1/win  \\\n",
       "0               1  0.672377  -0.01    0.12   1.63        1.0  0.775194   \n",
       "\n",
       "     1/draw    1/lose  resultwin1,0  \n",
       "0  0.165017  0.092081             0  \n",
       "\n",
       "[1 rows x 56 columns]"
      ]
     },
     "execution_count": 72,
     "metadata": {},
     "output_type": "execute_result"
    }
   ],
   "source": [
    "data1.head(1)"
   ]
  },
  {
   "cell_type": "code",
   "execution_count": 73,
   "metadata": {},
   "outputs": [
    {
     "data": {
      "text/plain": [
       "Index(['Unnamed: 0', 'Unnamed: 0.1', 'Unnamed: 0_x', 'AwayGoals_x',\n",
       "       'AwayHalfGoals_x', 'AwayName', 'AwayTeamId_x', 'ChuDraw_x', 'ChuLose_x',\n",
       "       'ChuWin_x', 'Color_x', 'CorpId_x', 'DrawOdds_x', 'GameId_x',\n",
       "       'GameName_x', 'HomeGoals_x', 'HomeHalfGoals_x', 'HomeName',\n",
       "       'HomeTeamId_x', 'LoseOdds_x', 'MatchId_x', 'StartTime_x', 'WinOdds_x',\n",
       "       'Unnamed: 0_y', 'AwayGoals_y', 'AwayHalfGoals_y', 'AwayTeamId_y',\n",
       "       'ChuDraw_y', 'ChuLose_y', 'ChuWin_y', 'Color_y', 'CorpId_y',\n",
       "       'DrawOdds_y', 'GameId_y', 'GameName_y', 'HomeGoals_y',\n",
       "       'HomeHalfGoals_y', 'HomeTeamId_y', 'LoseOdds_y', 'MatchId_y',\n",
       "       'StartTime_y', 'WinOdds_y', 'result', 'prowin', 'prolse', 'prodraw',\n",
       "       'winoupeibianhua', 'all', 'OwinC', 'OdrawC', 'OloseC', 'intercept',\n",
       "       '1/win', '1/draw', '1/lose', 'resultwin1,0'],\n",
       "      dtype='object')"
      ]
     },
     "execution_count": 73,
     "metadata": {},
     "output_type": "execute_result"
    }
   ],
   "source": [
    "data1.columns"
   ]
  },
  {
   "cell_type": "code",
   "execution_count": 74,
   "metadata": {},
   "outputs": [
    {
     "name": "stdout",
     "output_type": "stream",
     "text": [
      "Optimization terminated successfully.\n",
      "         Current function value: 0.581722\n",
      "         Iterations 5\n"
     ]
    }
   ],
   "source": [
    "#指定作为训练变量的列\n",
    "train_cols1 = data1.columns[[52,53,54,43,45,44,48,49,50,51]]\n",
    "# Index([gre, gpa, prestige_2, prestige_3, prestige_4], dtype=object)\n",
    "\n",
    "logit1=sm.Logit(data1[\"resultwin1,0\"], data1[train_cols1])\n",
    "\n",
    "# 拟合模型\n",
    "result1 = logit1.fit()"
   ]
  },
  {
   "cell_type": "code",
   "execution_count": 75,
   "metadata": {
    "collapsed": true
   },
   "outputs": [],
   "source": [
    "#处理只要平局就是1，输球和赢球都是0.    \n",
    "res=data1[\"result\"]\n",
    "#要改变dataframe一定要这样先转换为np.array\n",
    "res=np.array(res)\n",
    "for i in range(0,len(data1[\"result\"]),1):\n",
    "    if res[i]==1:\n",
    "        res[i]=1\n",
    "    else:\n",
    "        res[i]=0\n",
    "data1[\"resultwin1,0draw\"]=res"
   ]
  },
  {
   "cell_type": "code",
   "execution_count": 76,
   "metadata": {},
   "outputs": [
    {
     "name": "stdout",
     "output_type": "stream",
     "text": [
      "Optimization terminated successfully.\n",
      "         Current function value: 0.582679\n",
      "         Iterations 5\n"
     ]
    }
   ],
   "source": [
    "#指定作为训练变量的列\n",
    "train_cols2 = data1.columns[[52,53,54,43,45,44,48,49,50,51]]\n",
    "# Index([gre, gpa, prestige_2, prestige_3, prestige_4], dtype=object)\n",
    "\n",
    "logit2=sm.Logit(data1[\"resultwin1,0draw\"], data1[train_cols2])\n",
    "\n",
    "# 拟合模型\n",
    "result2 = logit2.fit()"
   ]
  },
  {
   "cell_type": "code",
   "execution_count": 77,
   "metadata": {
    "collapsed": true
   },
   "outputs": [],
   "source": [
    "#处理只要输球就是1，平球和赢球都是0.    \n",
    "res=data1[\"result\"]\n",
    "#要改变dataframe一定要这样先转换为np.array\n",
    "res=np.array(res)\n",
    "for i in range(0,len(data1[\"result\"]),1):\n",
    "    if res[i]==0:\n",
    "        res[i]=1\n",
    "    else:\n",
    "        res[i]=0\n",
    "data1[\"resultwin1,0lose\"]=res"
   ]
  },
  {
   "cell_type": "code",
   "execution_count": 78,
   "metadata": {},
   "outputs": [
    {
     "name": "stdout",
     "output_type": "stream",
     "text": [
      "Optimization terminated successfully.\n",
      "         Current function value: 0.666981\n",
      "         Iterations 5\n"
     ]
    }
   ],
   "source": [
    "#指定作为训练变量的列\n",
    "train_cols3 = data1.columns[[52,53,54,43,45,44,48,49,50,51]]\n",
    "# Index([gre, gpa, prestige_2, prestige_3, prestige_4], dtype=object)\n",
    "\n",
    "\n",
    "logit3=sm.Logit(data1[\"resultwin1,0lose\"], data1[train_cols3])\n",
    "\n",
    "# 拟合模型\n",
    "result3 = logit3.fit()"
   ]
  },
  {
   "cell_type": "code",
   "execution_count": 79,
   "metadata": {
    "collapsed": true
   },
   "outputs": [],
   "source": [
    "import copy\n",
    "combos = copy.deepcopy(data1)\n",
    "predict_cols = combos.columns[[52,53,54,43,45,44,48,49,50,51]]\n",
    "combos['predictwin'] = result1.predict(combos[predict_cols])\n",
    "combos['predictdraw'] = result2.predict(combos[predict_cols])\n",
    "combos['predictlose'] = result3.predict(combos[predict_cols])"
   ]
  },
  {
   "cell_type": "code",
   "execution_count": 80,
   "metadata": {},
   "outputs": [
    {
     "data": {
      "text/plain": [
       "[0.5,\n",
       " 0.5613160518444666,\n",
       " 0.51,\n",
       " 0.5582627118644068,\n",
       " 0.52,\n",
       " 0.5599850968703428,\n",
       " 0.53,\n",
       " 0.5611702127659575,\n",
       " 0.54,\n",
       " 0.5607052896725441,\n",
       " 0.55,\n",
       " 0.5593869731800766,\n",
       " 0.56,\n",
       " 0.5568392820301217,\n",
       " 0.57,\n",
       " 0.557815223707147,\n",
       " 0.58,\n",
       " 0.5600370027752082,\n",
       " 0.59,\n",
       " 0.5614066404855409,\n",
       " 0.6,\n",
       " 0.5607979184735473,\n",
       " 0.61,\n",
       " 0.5613647937531828,\n",
       " 0.62,\n",
       " 0.5624895432491216,\n",
       " 0.63,\n",
       " 0.5643318430203677,\n",
       " 0.64,\n",
       " 0.5655104389281604,\n",
       " 0.65,\n",
       " 0.5665137614678899,\n",
       " 0.66,\n",
       " 0.5666830306005564,\n",
       " 0.67,\n",
       " 0.5668519123896698,\n",
       " 0.68,\n",
       " 0.567042299526376,\n",
       " 0.69,\n",
       " 0.5670910871694417,\n",
       " 0.7,\n",
       " 0.5672323759791122,\n",
       " 0.71,\n",
       " 0.567373572593801,\n",
       " 0.72,\n",
       " 0.5675146771037182,\n",
       " 0.73,\n",
       " 0.5676556895989566,\n",
       " 0.74,\n",
       " 0.5677966101694916,\n",
       " 0.75,\n",
       " 0.5677966101694916,\n",
       " 0.76,\n",
       " 0.5677966101694916,\n",
       " 0.77,\n",
       " 0.5677966101694916,\n",
       " 0.78,\n",
       " 0.5677966101694916,\n",
       " 0.79,\n",
       " 0.5677966101694916,\n",
       " 0.8,\n",
       " 0.5677966101694916,\n",
       " 0.81,\n",
       " 0.5677966101694916,\n",
       " 0.82,\n",
       " 0.5677966101694916,\n",
       " 0.83,\n",
       " 0.5677966101694916,\n",
       " 0.84,\n",
       " 0.5677966101694916,\n",
       " 0.85,\n",
       " 0.5677966101694916,\n",
       " 0.86,\n",
       " 0.5677966101694916,\n",
       " 0.87,\n",
       " 0.5677966101694916,\n",
       " 0.88,\n",
       " 0.5677966101694916,\n",
       " 0.89,\n",
       " 0.5677966101694916,\n",
       " 0.9,\n",
       " 0.5677966101694916,\n",
       " 0.91,\n",
       " 0.5677966101694916,\n",
       " 0.92,\n",
       " 0.5677966101694916,\n",
       " 0.93,\n",
       " 0.5677966101694916,\n",
       " 0.94,\n",
       " 0.5677966101694916]"
      ]
     },
     "execution_count": 80,
     "metadata": {},
     "output_type": "execute_result"
    }
   ],
   "source": [
    "preall=0\n",
    "preau=0\n",
    "list1=[]\n",
    "for i in range(50,95,1):\n",
    "    \n",
    "    for index,row in combos.iterrows():\n",
    "        big=row[\"predictwin\"]\n",
    "        re=2\n",
    "        if row[\"predictwin\"]<=row[\"predictdraw\"]:\n",
    "            big=row[\"predictwin\"]\n",
    "            re=1\n",
    "        if big<=row[\"predictlose\"]:\n",
    "            big=row[\"predictlose\"]\n",
    "            re=0\n",
    "        if big>=i/100:\n",
    "            preall+=1\n",
    "            if row[\"result\"]==re:\n",
    "                preau+=1\n",
    "    \n",
    "    list1.append(i/100)  \n",
    "    list1.append(preau/preall)\n",
    "\n",
    "    \n",
    "        \n",
    "    \n",
    "    \n",
    "list1"
   ]
  },
  {
   "cell_type": "code",
   "execution_count": 81,
   "metadata": {
    "collapsed": true
   },
   "outputs": [],
   "source": [
    "a1=np.array(list1)\n",
    "a1=a1.reshape(45,2)\n",
    "dfa1=pd.DataFrame(a1)"
   ]
  },
  {
   "cell_type": "code",
   "execution_count": 39,
   "metadata": {
    "collapsed": true
   },
   "outputs": [],
   "source": [
    "import matplotlib.pyplot as plt"
   ]
  },
  {
   "cell_type": "code",
   "execution_count": 40,
   "metadata": {},
   "outputs": [
    {
     "data": {
      "image/png": "[encoded data removed]",
      "text/plain": [
       "<matplotlib.figure.Figure at 0x10d116cf8>"
      ]
     },
     "metadata": {},
     "output_type": "display_data"
    }
   ],
   "source": [
    "plt.plot(dfa1.iloc[:,0],dfa1.iloc[:,1],\"ro\")\n",
    "plt.axis([0.5,1,0.55,0.68])\n",
    "plt.ylabel(\"accuracy\")\n",
    "plt.xlabel(\"threshold\")\n",
    "plt.show()"
   ]
  },
  {
   "cell_type": "code",
   "execution_count": 82,
   "metadata": {},
   "outputs": [
    {
     "data": {
      "text/plain": [
       "[0.0,\n",
       " 112.31000000000031,\n",
       " 0.01,\n",
       " 76.3899999999998,\n",
       " 0.02,\n",
       " 131.19999999999993,\n",
       " 0.03,\n",
       " 104.09999999999987,\n",
       " 0.04,\n",
       " 114.85999999999993,\n",
       " 0.05,\n",
       " 92.06999999999994,\n",
       " 0.06,\n",
       " 25.040000000000006,\n",
       " 0.07,\n",
       " 0.21000000000000618,\n",
       " 0.08,\n",
       " 13.609999999999994,\n",
       " 0.09,\n",
       " 24.090000000000003,\n",
       " 0.1,\n",
       " 21.979999999999997,\n",
       " 0.11,\n",
       " 17.06,\n",
       " 0.12,\n",
       " 7.640000000000001,\n",
       " 0.13,\n",
       " 11.639999999999999,\n",
       " 0.14,\n",
       " 7.74,\n",
       " 0.15,\n",
       " 7.49,\n",
       " 0.16,\n",
       " 6.92,\n",
       " 0.17,\n",
       " 7.92,\n",
       " 0.18,\n",
       " 7.359999999999999,\n",
       " 0.19,\n",
       " 4.91,\n",
       " 0.2,\n",
       " 4.91,\n",
       " 0.21,\n",
       " 4.91,\n",
       " 0.22,\n",
       " 4.91,\n",
       " 0.23,\n",
       " 4.91,\n",
       " 0.24,\n",
       " 4.91,\n",
       " 0.25,\n",
       " 5.91,\n",
       " 0.26,\n",
       " 5.91,\n",
       " 0.27,\n",
       " 3.0599999999999996,\n",
       " 0.28,\n",
       " 3.0599999999999996,\n",
       " 0.29,\n",
       " 3.0599999999999996,\n",
       " 0.3,\n",
       " 3.0599999999999996,\n",
       " 0.31,\n",
       " 3.0599999999999996,\n",
       " 0.32,\n",
       " 3.0599999999999996,\n",
       " 0.33,\n",
       " -1,\n",
       " 0.34,\n",
       " -1,\n",
       " 0.35,\n",
       " -1,\n",
       " 0.36,\n",
       " -1,\n",
       " 0.37,\n",
       " -1,\n",
       " 0.38,\n",
       " -1,\n",
       " 0.39,\n",
       " -1]"
      ]
     },
     "execution_count": 82,
     "metadata": {},
     "output_type": "execute_result"
    }
   ],
   "source": [
    "\n",
    "list2=[]\n",
    "for i in range(0,40,1):   \n",
    "    money=0\n",
    "    for index,row in combos.iterrows():\n",
    "        l1=[(row['predictwin']-1/row['ChuWin_x']),(row['predictdraw']-1/row['ChuDraw_x']),(row['predictlose']-1/row['ChuLose_x'])]\n",
    "        if max(l1)>i/100:\n",
    "            b=l1.index(max(l1))\n",
    "            if b==0:\n",
    "                if row[\"result\"]==2:\n",
    "                    money=money+(row['ChuWin_x']-1)\n",
    "                else:\n",
    "                    money=money-1\n",
    "            if b==1:\n",
    "                if row[\"result\"]==1:\n",
    "                    money=money+(row['ChuDraw_x']-1)\n",
    "                else:\n",
    "                    money=money-1\n",
    "            if b==2:\n",
    "                if row[\"result\"]==0:\n",
    "                    money=money+(row['ChuLose_x']-1)\n",
    "                else:\n",
    "                    money=money-1\n",
    "    list2.append(i/100)\n",
    "    list2.append(money)\n",
    "                \n",
    "        \n",
    "        \n",
    "list2  "
   ]
  },
  {
   "cell_type": "code",
   "execution_count": 83,
   "metadata": {
    "collapsed": true
   },
   "outputs": [],
   "source": [
    "al2=np.array(list2)\n",
    "al2=al2.reshape(40,2)\n",
    "dfal2=pd.DataFrame(al2)"
   ]
  },
  {
   "cell_type": "code",
   "execution_count": 44,
   "metadata": {},
   "outputs": [
    {
     "data": {
      "image/png": "[encoded data removed]",
      "text/plain": [
       "<matplotlib.figure.Figure at 0x10d251828>"
      ]
     },
     "metadata": {},
     "output_type": "display_data"
    }
   ],
   "source": [
    "plt.plot(dfal2.iloc[:,0],dfal2.iloc[:,1],\"ro\")\n",
    "plt.axis([0,0.4,0,300])\n",
    "plt.ylabel(\"Profitability$\")\n",
    "plt.xlabel(\"threshold\")\n",
    "plt.show()"
   ]
  },
  {
   "cell_type": "code",
   "execution_count": 86,
   "metadata": {},
   "outputs": [
    {
     "data": {
      "image/png": "[encoded data removed]",
      "text/plain": [
       "<matplotlib.figure.Figure at 0x10adf4940>"
      ]
     },
     "metadata": {},
     "output_type": "display_data"
    }
   ],
   "source": [
    "fig, axs = plt.subplots(1, 2, figsize=(10, 5))\n",
    "\n",
    "axs[0].plot(dfa1.iloc[:,0],dfa1.iloc[:,1],\"yo\")\n",
    "axs[0].axis([0.5,1,0.55,0.58])\n",
    "\n",
    "\n",
    "\n",
    "axs[1].plot(dfal2.iloc[:,0],dfal2.iloc[:,1],\"go\")\n",
    "axs[1].axis([0,0.4,0,150])\n",
    "\n",
    "plt.show()"
   ]
  },
  {
   "cell_type": "code",
   "execution_count": null,
   "metadata": {
    "collapsed": true
   },
   "outputs": [],
   "source": [
    "\n"
   ]
  }
 ],
 "metadata": {
  "kernelspec": {
   "display_name": "Python 3",
   "language": "python",
   "name": "python3"
  },
  "language_info": {
   "codemirror_mode": {
    "name": "ipython",
    "version": 3
   },
   "file_extension": ".py",
   "mimetype": "text/x-python",
   "name": "python",
   "nbconvert_exporter": "python",
   "pygments_lexer": "ipython3",
   "version": "3.6.2"
  }
 },
 "nbformat": 4,
 "nbformat_minor": 2
}
